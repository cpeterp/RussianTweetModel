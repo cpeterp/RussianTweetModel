{
 "cells": [
  {
   "cell_type": "code",
   "execution_count": 83,
   "metadata": {},
   "outputs": [
    {
     "name": "stdout",
     "output_type": "stream",
     "text": [
      "[nltk_data] Downloading package stopwords to\n",
      "[nltk_data]     C:\\Users\\599701\\AppData\\Roaming\\nltk_data...\n",
      "[nltk_data]   Package stopwords is already up-to-date!\n"
     ]
    }
   ],
   "source": [
    "import pandas as pd\n",
    "import pandas as pd\n",
    "import numpy as np\n",
    "import scipy as sp\n",
    "import math\n",
    "\n",
    "from textblob import TextBlob, Word\n",
    "\n",
    "from nltk.stem.snowball import SnowballStemmer\n",
    "from nltk.corpus import stopwords\n",
    "import nltk\n",
    "nltk.download('stopwords')\n",
    "\n",
    "from sklearn.model_selection import train_test_split as tts\n",
    "from sklearn.feature_extraction.text import CountVectorizer\n",
    "from sklearn.naive_bayes import MultinomialNB         # Naive Bayes\n",
    "from sklearn import metrics"
   ]
  },
  {
   "cell_type": "code",
   "execution_count": 2,
   "metadata": {},
   "outputs": [],
   "source": [
    "tweet_data = pd.read_csv(\"./datasets/combined_data.csv\", sep=\";\", \n",
    "                         dtype={'tweet_id':str, 'author_id':str, 'publish_date':str, \n",
    "                                'content':str, 'link_url':str, 'account_category':str, \n",
    "                                'author':str, 'account_type':str})"
   ]
  },
  {
   "cell_type": "code",
   "execution_count": 3,
   "metadata": {},
   "outputs": [],
   "source": [
    "tweet_data = pd.get_dummies(tweet_data, columns=['account_category'], drop_first=False)"
   ]
  },
  {
   "cell_type": "code",
   "execution_count": 4,
   "metadata": {},
   "outputs": [],
   "source": [
    "df_Troll = tweet_data[tweet_data.account_category_Troll == 1]\n",
    "df_Pol = tweet_data[tweet_data.account_category_Politician == 1]\n",
    "df_News = tweet_data[tweet_data.account_category_US_News == 1]\n",
    "# Some different testing sets\n",
    "df_Trolls_News = pd.concat([df_Troll, df_News])"
   ]
  },
  {
   "cell_type": "code",
   "execution_count": 55,
   "metadata": {},
   "outputs": [],
   "source": [
    "# Define a function that accepts text and returns a list of stems.\n",
    "stemmer = SnowballStemmer('english')\n",
    "stemmed_stops = [stemmer.stem(Word(x)) for x in stopwords.words('english')] + [\"'s \", \"`\", '\"',\"“\", \"’\", \"http\", \"https\", \"n't\"]\n",
    "stemmed_stops = [item for item in stemmed_stops if item not in ['i', 'me', 'my', 'myself', 'we', 'our', 'our', 'ourselv', 'you', \"you'r\", \"you'v\", \"you'll\", \"you'd\", 'your', 'your', 'yourself', 'yourselv', 'he', 'him', 'his', 'himself', 'she', 'she', 'her', 'her', 'herself']]\n",
    "\n",
    "def split_into_stems(text):\n",
    "    text = str(text).lower()\n",
    "    words = TextBlob(text).words\n",
    "    return list(set([stemmer.stem(word) for word in words]) - set(stemmed_stops))"
   ]
  },
  {
   "cell_type": "code",
   "execution_count": 6,
   "metadata": {},
   "outputs": [],
   "source": [
    "X = df_Trolls_News['content']\n",
    "y = df_Trolls_News['account_category_Troll']\n",
    "X_train, X_test, y_train, y_test = tts(X, y, random_state=42)"
   ]
  },
  {
   "cell_type": "code",
   "execution_count": 56,
   "metadata": {},
   "outputs": [
    {
     "name": "stdout",
     "output_type": "stream",
     "text": [
      "             precision    recall  f1-score   support\n",
      "\n",
      "          0       0.80      0.89      0.84     10258\n",
      "          1       0.88      0.78      0.83     10277\n",
      "\n",
      "avg / total       0.84      0.84      0.84     20535\n",
      "\n"
     ]
    }
   ],
   "source": [
    "vect = CountVectorizer(analyzer=split_into_stems, max_df=1.0, min_df=1, ngram_range=(1,1))\n",
    "X_train_dtm = vect.fit_transform(X_train)\n",
    "X_test_dtm = vect.transform(X_test)\n",
    "nb = MultinomialNB()\n",
    "nb.fit(X_train_dtm, y_train)\n",
    "y_pred_class = nb.predict(X_test_dtm)\n",
    "print(metrics.classification_report(y_test, y_pred_class))"
   ]
  },
  {
   "cell_type": "code",
   "execution_count": 8,
   "metadata": {},
   "outputs": [],
   "source": [
    "def grab_tweet(tweet):\n",
    "    print(\"Author:\", tweet['author'])\n",
    "    print(\"Probability troll:\", tweet['proba_troll'])\n",
    "    print(\"Tweet text:\", tweet['content'])\n",
    "    print()"
   ]
  },
  {
   "cell_type": "code",
   "execution_count": 9,
   "metadata": {},
   "outputs": [],
   "source": [
    "df_dtm = vect.transform(df_Trolls_News['content'])"
   ]
  },
  {
   "cell_type": "code",
   "execution_count": 10,
   "metadata": {},
   "outputs": [],
   "source": [
    "proba = nb.predict_proba(df_dtm)\n",
    "df_Trolls_News['proba_troll'] = proba[:,1]"
   ]
  },
  {
   "cell_type": "code",
   "execution_count": 11,
   "metadata": {},
   "outputs": [
    {
     "name": "stdout",
     "output_type": "stream",
     "text": [
      "Most Troll Like\n",
      "Author: nytimes\n",
      "Probability troll: 0.9999999790185827\n",
      "Tweet text: RT @jennydeluxe: \"Being black in the age of wokeness\" is one of my fave episodes to date. Listen &amp; LMK what you think &gt;&gt;&gt;&gt; https://t.co/r4T…\n",
      "\n",
      "Author: USATODAY\n",
      "Probability troll: 0.999999959013878\n",
      "Tweet text: \"All I really want to do is tell you that I'm feeling great. I'm glad I spent that evening in the hospital, and it did me a lot of good.\" -Stan Lee https://t.co/JZg09bqS1g\n",
      "\n",
      "Author: FoxNews\n",
      "Probability troll: 0.9999998102654113\n",
      "Tweet text: .@POTUS on Democrats: \"I don't think they want to solve the DACA problem. I think they wanna talk about it. I think they wanna obstruct.\" https://t.co/zBPxHDzk6E\n",
      "\n",
      "Author: FoxNews\n",
      "Probability troll: 0.9999997752128391\n",
      "Tweet text: Huckabee: \"The greatest single characteristic of people on the far left is they have zero sense of humor. I mean, these are the most bitter, angry, really disappointing and disgusting people because they're so sad with life. I've never seen a group of people that are so unhappy.\" https://t.co/7tugSKNYzO\n",
      "\n",
      "Author: FoxNews\n",
      "Probability troll: 0.9999984282102463\n",
      "Tweet text: .@POTUS to U.S. servicemembers: \"We support you. We thank you. We love you and we will always have your back like you have ours. Thank you.\" https://t.co/oBJa5dDnnh\n",
      "\n",
      "Least Troll Like\n",
      "Author: politico\n",
      "Probability troll: 3.8849871078629966e-16\n",
      "Tweet text: Larry Kudlow has been widely seen as a leading candidate to replace Gary Cohn, despite his criticism of Trump’s decision to impose a 10 percent tariff on aluminum and 25 percent tariff on steel imports.\r",
      "\r\n",
      " https://t.co/f3A12AevZU https://t.co/wpgmLzoh4p\n",
      "\n",
      "Author: Reuters\n",
      "Probability troll: 1.3386156536401943e-15\n",
      "Tweet text: North Korean leader Kim Jong Un invites South Korean President Moon Jae-in to Pyongyang potentially setting up the first meeting of Korean leaders in more than a decade https://t.co/K7PvzMSyIA @HeeShin @pearswick #PyeongChang2018 https://t.co/kUseNlZ7g2\n",
      "\n",
      "Author: HuffPost\n",
      "Probability troll: 9.06416797152123e-15\n",
      "Tweet text: PyeongChang built itself a brand-new $109 million stadium to host the 2018 Winter Olympic and Paralympic Games. \r",
      "\r\n",
      "\r",
      "\r\n",
      "And after just four ceremonial events ― including the #OpeningCeremony ― PyeongChang plans to tear the place down. 🤔🤔🤔\r",
      "\r\n",
      "\r",
      "\r\n",
      "Here's more: https://t.co/QnNcDktTVs\n",
      "\n",
      "Author: ABC\n",
      "Probability troll: 1.3179443040483134e-14\n",
      "Tweet text: Students at Marjory Stoneman Douglas High School in Parkland, Florida, where 17 people were killed in a deadly shooting last month, walk out of their classrooms to protest for stricter gun laws as part of #NationalWalkoutDay. https://t.co/JuOWURifIL https://t.co/RVDU3en5Er\n",
      "\n",
      "Author: ABC\n",
      "Probability troll: 3.743363876618917e-14\n",
      "Tweet text: JUST IN: Yulia Skripal, daughter of former Russian spy Sergei Skripal, has been discharged from hospital in the UK five weeks after nerve agent attack, reports say. https://t.co/2OFbVimjO1 https://t.co/bQgd6CoIpx\n",
      "\n"
     ]
    },
    {
     "data": {
      "text/plain": [
       "147799    None\n",
       "135104    None\n",
       "136099    None\n",
       "147265    None\n",
       "132540    None\n",
       "dtype: object"
      ]
     },
     "execution_count": 11,
     "metadata": {},
     "output_type": "execute_result"
    }
   ],
   "source": [
    "print(\"Most Troll Like\")\n",
    "df_Trolls_News.loc[df_Trolls_News.account_category_Troll==0].sort_values(by='proba_troll', ascending=False).head().apply(grab_tweet, axis=1)\n",
    "print(\"Least Troll Like\")\n",
    "df_Trolls_News.loc[df_Trolls_News.account_category_Troll==0].sort_values(by='proba_troll', ascending=True).head().apply(grab_tweet, axis=1)"
   ]
  },
  {
   "cell_type": "code",
   "execution_count": 12,
   "metadata": {},
   "outputs": [
    {
     "name": "stdout",
     "output_type": "stream",
     "text": [
      "Most News Like\n",
      "Author: KANIJJACKSON\n",
      "Probability troll: 8.54233597680746e-08\n",
      "Tweet text: Confirmed: Michael Cohen received hundreds of thousands of dollars  from a Russian oligarch Viktor Vekselberg.  The money was paid to a First Republic Bank account Cohen created  for Essential Consultants. This is the same bank  account Cohen used to pay Stormy Daniels $130,000\n",
      "\n",
      "Author: IMAPHARRELFAKE\n",
      "Probability troll: 2.3689616812652584e-07\n",
      "Tweet text: Former Cuban President Fidel Castro dies at age 90, his brother, President Raul Castro announces. https://t.co/gHGSyRFlBi\n",
      "\n",
      "Author: WORLDNEWSPOLI\n",
      "Probability troll: 1.5878339961590657e-06\n",
      "Tweet text: Bao Bao the giant panda leaves Washington zoo for new home in China https://t.co/e6WNrKcrMI https://t.co/QnCVIUb3nQ\n",
      "\n",
      "Author: COVFEFENATIONUS\n",
      "Probability troll: 1.9084533260972855e-06\n",
      "Tweet text: Randall Saito was arrested in Stockton, CA this morning, per  San Joaquin Co Sheriff’s FB page  SJCO credits “a tip from an alert taxi cab driver”  Saito escaped from Hawaii State Hospital on Oahu,caught a taxi to the Honolulu airport, chartered a flight to Maui, then flew to CA\n",
      "\n",
      "Author: BRIANTHELIFTER\n",
      "Probability troll: 4.5075546723510974e-06\n",
      "Tweet text: SCOOP! Draft of House repeal bill: -scraps subsidies, Medicaid expansion -overhauls Medicaid -loosens pre-ex rules https://t.co/UZupKfUi15\n",
      "\n",
      "Least News Like\n",
      "Author: DOROTHIEBELL\n",
      "Probability troll: 1.0\n",
      "Tweet text: �#WakeUpAmerica #TeamTrump #CCOT  #2A #MAGA�#millenials #MinorityPolitics #tcot  �Vote!!��Pols think we are stupid� https://t.co/FHTb098aar\n",
      "\n",
      "Author: COVFEFENATIONUS\n",
      "Probability troll: 1.0\n",
      "Tweet text: '@Acosta @jaketapper @CNN @CNNI @CNNPolitics @CNNSitRoom @WolfBlitzer @JakeTapper @TheLeadCNN @BrianStelter @AnaNavarro @DonLemon @VanJones68 @AndersonCooper @AC360 @JimAcosta  CNN IS #FAKENEWS! CNN IS #FAKENEWS! CNN IS #FAKENEWS! CNN IS #FAKENEWS! CNN IS #FAKENEWS! CNN IS #FAKENEWS!  #FAKENEWS #MAGA'\n",
      "\n",
      "Author: PRICEFORPIERCE\n",
      "Probability troll: 1.0\n",
      "Tweet text: '@Sandroskeith @Keque_Mage @Always_Woke @MAGA_shopper @AutisteMoM @Dutch_Deplorabl @WanAw000 @jaxon_gator @lordcaccioepepe @HalleyBorderCol @DJTJohnMiller @WDFx2EU95 @mom_vet @ToTheHand @ThomasBernpaine @JonJ_L @HampusSelander @AndrewK_6 @Treeoflife272 @NeonReactionary @LoveUSADawn @nes4america @Silky_Milky_ @dualkoondog @this1isno1 @disawooed @reallyyBecky @polNewsNet @Kekolyte2 @nia4_trump @JJSmithy_ @ang_yow @tcburnett @SpaceTrills @xavispar4 @lemuriangirl @whois_John_Galt @SeanLewandowski @pacman522 @Thomas1774Paine @BoozyVonD @tmntiffers @smwrva @Lord_ofthe_Pies @Psyanidex @EvilHillaryPics @JayVanorman @laughingatitall @nancyyvonne87 @VictorOfKadesh https://t.co/lzCYFcd5qV'\n",
      "\n",
      "Author: CHESPLAYSCHESS\n",
      "Probability troll: 1.0\n",
      "Tweet text: #NewHampshireForTrump #MakeAmericaGreatAgain #Trump2016 #TeamTrump #TrumpTrain #TrumpArmy #AltRight #CCoT #TCoT d https://t.co/oW7UfZLQco\n",
      "\n",
      "Author: BRIANWARNING\n",
      "Probability troll: 1.0\n",
      "Tweet text: MT:@ Stonewall_77: Veterans' Lives Matter #WeThePeople #tcot #WakeUpAmerica #ccot #pjnet #Veterans #NRA https://t.co/1cYc4r0zCa\n",
      "\n"
     ]
    },
    {
     "data": {
      "text/plain": [
       "10951    None\n",
       "27469    None\n",
       "19144    None\n",
       "13334    None\n",
       "2595     None\n",
       "dtype: object"
      ]
     },
     "execution_count": 12,
     "metadata": {},
     "output_type": "execute_result"
    }
   ],
   "source": [
    "print(\"Most News Like\")\n",
    "df_Trolls_News.loc[df_Trolls_News.account_category_Troll==1].sort_values(by='proba_troll', ascending=True).head().apply(grab_tweet, axis=1)\n",
    "print(\"Least News Like\")\n",
    "df_Trolls_News.loc[df_Trolls_News.account_category_Troll==1].sort_values(by='proba_troll', ascending=False).head().apply(grab_tweet, axis=1)"
   ]
  },
  {
   "cell_type": "code",
   "execution_count": 13,
   "metadata": {},
   "outputs": [
    {
     "data": {
      "text/plain": [
       "author\n",
       "Reuters           0.013266\n",
       "AP                0.018762\n",
       "chicagotribune    0.039258\n",
       "ABC               0.041498\n",
       "politico          0.050556\n",
       "WSJ               0.052525\n",
       "NPR               0.079233\n",
       "CNN               0.087843\n",
       "USATODAY          0.114722\n",
       "Forbes            0.116943\n",
       "nytimes           0.122085\n",
       "washingtonpost    0.126263\n",
       "nypost            0.165859\n",
       "FoxNews           0.168716\n",
       "HuffPost          0.220815\n",
       "Name: proba_troll, dtype: float64"
      ]
     },
     "execution_count": 13,
     "metadata": {},
     "output_type": "execute_result"
    }
   ],
   "source": [
    "df_Trolls_News.loc[df_Trolls_News.account_category_Troll==0].groupby(by='author').mean().proba_troll.sort_values()"
   ]
  },
  {
   "cell_type": "code",
   "execution_count": 115,
   "metadata": {},
   "outputs": [],
   "source": [
    "def show_most_informative_features(vectorizer, clf, n=20):\n",
    "    feature_names = vectorizer.get_feature_names()\n",
    "    lin_exp = np.vectorize(lambda x: math.exp(x))\n",
    "    coefs_exp_0 = lin_exp(clf.feature_log_prob_[0])\n",
    "    coefs_exp_1 = lin_exp(clf.feature_log_prob_[1])\n",
    "\n",
    "    denom = np.add(coefs_exp_0, coefs_exp_1)\n",
    "    weighted_coefs_0 = np.divide(coefs_exp_0, denom)\n",
    "    weighted_coefs_1 = np.divide(coefs_exp_1, denom)\n",
    "\n",
    "    coefs_with_fns_0 = sorted(zip(weighted_coefs_0, feature_names))\n",
    "    coefs_with_fns_1 = sorted(zip(weighted_coefs_1, feature_names))\n",
    "\n",
    "    top = zip(coefs_with_fns_0[:-(n + 1):-1], coefs_with_fns_1[:-(n + 1):-1])\n",
    "    bot = zip(coefs_with_fns_0[:n], coefs_with_fns_1[:n])\n",
    "    \n",
    "    print(\"Top\")\n",
    "    print(\"\\tNews\\t\\t\\t\\tTrolls\")\n",
    "    for (coef_1, fn_1), (coef_2, fn_2) in top:\n",
    "        print(\"\\t%.4f\\t%-15s\\t\\t%.4f\\t%-15s\" % (coef_1, fn_1, coef_2, fn_2))\n",
    "        \n",
    "    print()\n",
    "    print(\"Bottom\")\n",
    "    print(\"\\tNews\\t\\t\\t\\tTrolls\")\n",
    "    for (coef_1, fn_1), (coef_2, fn_2) in top:\n",
    "        print(\"\\t%.4f\\t%-15s\\t\\t%.4f\\t%-15s\" % (coef_1, fn_1, coef_2, fn_2))"
   ]
  },
  {
   "cell_type": "code",
   "execution_count": 116,
   "metadata": {},
   "outputs": [
    {
     "name": "stdout",
     "output_type": "stream",
     "text": [
      "Top\n",
      "\tNews\t\t\t\tTrolls\n",
      "\t0.9967\t🔓              \t\t0.9979\t�              \n",
      "\t0.9964\treuterstv      \t\t0.9977\ttcot           \n",
      "\t0.9950\tpoliticomag    \t\t0.9976\tpjnet          \n",
      "\t0.9920\tapcentralregion\t\t0.9964\t��             \n",
      "\t0.9919\ttariff         \t\t0.9961\tmaga           \n",
      "\t0.9905\twalkout        \t\t0.9949\tnowplay        \n",
      "\t0.9901\tapwestregion   \t\t0.9941\tccot           \n",
      "\t0.9885\tgetti          \t\t0.9936\tfuck           \n",
      "\t0.9883\tfoxnews2016    \t\t0.9934\twakeupamerica  \n",
      "\t0.9875\tapeastregion   \t\t0.9931\t▶              \n",
      "\t0.9863\tap_odd         \t\t0.9931\ttopl           \n",
      "\t0.9853\tt.co…          \t\t0.9931\tblm            \n",
      "\t0.9849\tplaybookplus   \t\t0.9930\tblacklivesmatt \n",
      "\t0.9849\tap_polit       \t\t0.9927\t���            \n",
      "\t0.9845\tbreakingview   \t\t0.9925\t2a             \n",
      "\t0.9843\tnationalwalkoutday\t\t0.9921\tgopdeb         \n",
      "\t0.9826\tpyeongchang2018\t\t0.9914\tlol            \n",
      "\t0.9810\tt.co/…         \t\t0.9914\tantifa         \n",
      "\t0.9807\tapsouthregion  \t\t0.9913\tislamkil       \n",
      "\t0.9793\tnassar         \t\t0.9907\tblacktwitt     \n",
      "\n",
      "Bottom\n",
      "\tNews\t\t\t\tTrolls\n",
      "\t0.0021\t�              \t\t0.0033\t🔓              \n",
      "\t0.0023\ttcot           \t\t0.0036\treuterstv      \n",
      "\t0.0024\tpjnet          \t\t0.0050\tpoliticomag    \n",
      "\t0.0036\t��             \t\t0.0080\tapcentralregion\n",
      "\t0.0039\tmaga           \t\t0.0081\ttariff         \n",
      "\t0.0051\tnowplay        \t\t0.0095\twalkout        \n",
      "\t0.0059\tccot           \t\t0.0099\tapwestregion   \n",
      "\t0.0064\tfuck           \t\t0.0115\tgetti          \n",
      "\t0.0066\twakeupamerica  \t\t0.0117\tfoxnews2016    \n",
      "\t0.0069\tblm            \t\t0.0125\tapeastregion   \n",
      "\t0.0069\ttopl           \t\t0.0137\tap_odd         \n",
      "\t0.0069\t▶              \t\t0.0147\tt.co…          \n",
      "\t0.0070\tblacklivesmatt \t\t0.0151\tplaybookplus   \n",
      "\t0.0073\t���            \t\t0.0151\tap_polit       \n",
      "\t0.0075\t2a             \t\t0.0155\tbreakingview   \n",
      "\t0.0079\tgopdeb         \t\t0.0157\tnationalwalkoutday\n",
      "\t0.0086\tlol            \t\t0.0174\tpyeongchang2018\n",
      "\t0.0086\tantifa         \t\t0.0190\tt.co/…         \n",
      "\t0.0087\tislamkil       \t\t0.0193\tapsouthregion  \n",
      "\t0.0093\tblacktwitt     \t\t0.0207\tapentertain    \n"
     ]
    }
   ],
   "source": [
    "show_most_informative_features(vect, nb)"
   ]
  },
  {
   "cell_type": "code",
   "execution_count": 112,
   "metadata": {},
   "outputs": [
    {
     "data": {
      "text/plain": [
       "['a', 'b']"
      ]
     },
     "execution_count": 112,
     "metadata": {},
     "output_type": "execute_result"
    }
   ],
   "source": [
    "a = []\n",
    "a + ['a','b']"
   ]
  },
  {
   "cell_type": "code",
   "execution_count": null,
   "metadata": {},
   "outputs": [],
   "source": []
  },
  {
   "cell_type": "code",
   "execution_count": null,
   "metadata": {},
   "outputs": [],
   "source": []
  },
  {
   "cell_type": "code",
   "execution_count": null,
   "metadata": {},
   "outputs": [],
   "source": []
  }
 ],
 "metadata": {
  "kernelspec": {
   "display_name": "Python 3",
   "language": "python",
   "name": "python3"
  },
  "language_info": {
   "codemirror_mode": {
    "name": "ipython",
    "version": 3
   },
   "file_extension": ".py",
   "mimetype": "text/x-python",
   "name": "python",
   "nbconvert_exporter": "python",
   "pygments_lexer": "ipython3",
   "version": "3.6.5"
  }
 },
 "nbformat": 4,
 "nbformat_minor": 2
}
