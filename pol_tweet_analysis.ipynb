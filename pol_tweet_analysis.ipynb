{
 "cells": [
  {
   "cell_type": "code",
   "execution_count": 2,
   "metadata": {},
   "outputs": [],
   "source": [
    "import pandas as pd\n"
   ]
  },
  {
   "cell_type": "code",
   "execution_count": 5,
   "metadata": {},
   "outputs": [],
   "source": [
    "tweet_data = pd.read_csv('datasets/politician-tweets/pol_tweets.csv', sep=';')"
   ]
  },
  {
   "cell_type": "code",
   "execution_count": 6,
   "metadata": {},
   "outputs": [],
   "source": [
    "tweet_data['created_at'] = pd.to_datetime(tweet_data['created_at'])"
   ]
  },
  {
   "cell_type": "code",
   "execution_count": 8,
   "metadata": {
    "scrolled": true
   },
   "outputs": [],
   "source": [
    "acc_data = pd.read_csv('datasets/politician-tweets/pol_accounts.csv', ';')"
   ]
  },
  {
   "cell_type": "code",
   "execution_count": 9,
   "metadata": {},
   "outputs": [
    {
     "data": {
      "text/html": [
       "<div>\n",
       "<style scoped>\n",
       "    .dataframe tbody tr th:only-of-type {\n",
       "        vertical-align: middle;\n",
       "    }\n",
       "\n",
       "    .dataframe tbody tr th {\n",
       "        vertical-align: top;\n",
       "    }\n",
       "\n",
       "    .dataframe thead th {\n",
       "        text-align: right;\n",
       "    }\n",
       "</style>\n",
       "<table border=\"1\" class=\"dataframe\">\n",
       "  <thead>\n",
       "    <tr style=\"text-align: right;\">\n",
       "      <th></th>\n",
       "      <th>id</th>\n",
       "      <th>user_id</th>\n",
       "      <th>created_at</th>\n",
       "      <th>tweet_text</th>\n",
       "      <th>hashtag_entities</th>\n",
       "      <th>url_entities</th>\n",
       "      <th>favorites_count</th>\n",
       "      <th>retweet_count</th>\n",
       "      <th>quoted_status_id</th>\n",
       "      <th>in_reply_to_status_id</th>\n",
       "    </tr>\n",
       "  </thead>\n",
       "  <tbody>\n",
       "    <tr>\n",
       "      <th>0</th>\n",
       "      <td>488814426666315776</td>\n",
       "      <td>1061385474</td>\n",
       "      <td>2014-07-14 22:36:55</td>\n",
       "      <td>I enjoyed speaking with @actuary_dot_org about...</td>\n",
       "      <td>{CARECorps}</td>\n",
       "      <td>{}</td>\n",
       "      <td>3</td>\n",
       "      <td>3</td>\n",
       "      <td>NaN</td>\n",
       "      <td>NaN</td>\n",
       "    </tr>\n",
       "    <tr>\n",
       "      <th>1</th>\n",
       "      <td>834855385416757249</td>\n",
       "      <td>2970279814</td>\n",
       "      <td>2017-02-23 20:00:09</td>\n",
       "      <td>We are concerned &amp;amp; actively seeking answer...</td>\n",
       "      <td>{}</td>\n",
       "      <td>{http://bit.ly/2lzZl8M}</td>\n",
       "      <td>23</td>\n",
       "      <td>12</td>\n",
       "      <td>NaN</td>\n",
       "      <td>NaN</td>\n",
       "    </tr>\n",
       "    <tr>\n",
       "      <th>2</th>\n",
       "      <td>659061646556557312</td>\n",
       "      <td>240812994</td>\n",
       "      <td>2015-10-27 17:38:35</td>\n",
       "      <td>RT @NYCEDC: Thanks to @BPEricAdams, @CMMathieu...</td>\n",
       "      <td>{}</td>\n",
       "      <td>{}</td>\n",
       "      <td>0</td>\n",
       "      <td>6</td>\n",
       "      <td>NaN</td>\n",
       "      <td>NaN</td>\n",
       "    </tr>\n",
       "    <tr>\n",
       "      <th>3</th>\n",
       "      <td>501772450859061248</td>\n",
       "      <td>1321432124</td>\n",
       "      <td>2014-08-19 16:47:29</td>\n",
       "      <td>How @GovernorCorbett's $1 Billion in cuts to e...</td>\n",
       "      <td>{PublicSchools,pagov}</td>\n",
       "      <td>{http://t.co/Juw6dKWBe2}</td>\n",
       "      <td>4</td>\n",
       "      <td>10</td>\n",
       "      <td>NaN</td>\n",
       "      <td>NaN</td>\n",
       "    </tr>\n",
       "    <tr>\n",
       "      <th>4</th>\n",
       "      <td>781520572937363457</td>\n",
       "      <td>2963445730</td>\n",
       "      <td>2016-09-29 15:46:39</td>\n",
       "      <td>RT @GovExecEvents: ICYM @GerryConnolly &amp;amp; @...</td>\n",
       "      <td>{FITARAForward}</td>\n",
       "      <td>{}</td>\n",
       "      <td>0</td>\n",
       "      <td>4</td>\n",
       "      <td>NaN</td>\n",
       "      <td>NaN</td>\n",
       "    </tr>\n",
       "  </tbody>\n",
       "</table>\n",
       "</div>"
      ],
      "text/plain": [
       "                   id     user_id          created_at  \\\n",
       "0  488814426666315776  1061385474 2014-07-14 22:36:55   \n",
       "1  834855385416757249  2970279814 2017-02-23 20:00:09   \n",
       "2  659061646556557312   240812994 2015-10-27 17:38:35   \n",
       "3  501772450859061248  1321432124 2014-08-19 16:47:29   \n",
       "4  781520572937363457  2963445730 2016-09-29 15:46:39   \n",
       "\n",
       "                                          tweet_text       hashtag_entities  \\\n",
       "0  I enjoyed speaking with @actuary_dot_org about...            {CARECorps}   \n",
       "1  We are concerned &amp; actively seeking answer...                     {}   \n",
       "2  RT @NYCEDC: Thanks to @BPEricAdams, @CMMathieu...                     {}   \n",
       "3  How @GovernorCorbett's $1 Billion in cuts to e...  {PublicSchools,pagov}   \n",
       "4  RT @GovExecEvents: ICYM @GerryConnolly &amp; @...        {FITARAForward}   \n",
       "\n",
       "               url_entities  favorites_count  retweet_count  quoted_status_id  \\\n",
       "0                        {}                3              3               NaN   \n",
       "1   {http://bit.ly/2lzZl8M}               23             12               NaN   \n",
       "2                        {}                0              6               NaN   \n",
       "3  {http://t.co/Juw6dKWBe2}                4             10               NaN   \n",
       "4                        {}                0              4               NaN   \n",
       "\n",
       "   in_reply_to_status_id  \n",
       "0                    NaN  \n",
       "1                    NaN  \n",
       "2                    NaN  \n",
       "3                    NaN  \n",
       "4                    NaN  "
      ]
     },
     "execution_count": 9,
     "metadata": {},
     "output_type": "execute_result"
    }
   ],
   "source": [
    "tweet_data.head()"
   ]
  },
  {
   "cell_type": "code",
   "execution_count": 11,
   "metadata": {},
   "outputs": [],
   "source": [
    "pd.set_option('max_colwidth', 250)\n",
    "import re\n",
    "\n",
    "def hash_search(row):\n",
    "    text = row['tweet_text']\n",
    "    if pd.isna(text):\n",
    "        text = \"\"\n",
    "    #print(text)\n",
    "    text_list = re.split('\\.| |; |, |\\*|\\n|\\\\(|\\\\)|!|\\\\?',text)\n",
    "    #print(text_list)\n",
    "    indices_hash = [i for i, x in enumerate(text_list) if x.startswith(\"#\")]\n",
    "    indices_at = [j for j, x in enumerate(text_list) if x.startswith(\"@\")]\n",
    "    hash_list = list()\n",
    "    at_list = list()\n",
    "    for k in indices_hash:\n",
    "        hash_list.append(text_list[k])\n",
    "    for l in indices_at:\n",
    "        at_list.append(text_list[l])\n",
    "    return([hash_list, at_list])\n",
    "\n",
    "tweet_data[['hashtags', 'ats']] = tweet_data.apply(hash_search, result_type='expand', axis=1)\n"
   ]
  },
  {
   "cell_type": "code",
   "execution_count": 15,
   "metadata": {},
   "outputs": [],
   "source": [
    "tweet_data.drop('hashtag_entities', axis=1, inplace=True)"
   ]
  },
  {
   "cell_type": "code",
   "execution_count": null,
   "metadata": {},
   "outputs": [],
   "source": [
    "row_accumulator = []\n",
    "def splitListToRows(row, target_column):\n",
    "    #print(row[target_column])\n",
    "    for s in row[target_column]:\n",
    "        new_row = row.to_dict()\n",
    "        new_row[target_column] = s\n",
    "        row_accumulator.append(new_row)\n",
    "\n",
    "df.apply(lambda row:splitListToRows(row,'hashtags'), axis=1)\n",
    "new_df = pd.DataFrame(row_accumulator)"
   ]
  }
 ],
 "metadata": {
  "kernelspec": {
   "display_name": "Python 3",
   "language": "python",
   "name": "python3"
  },
  "language_info": {
   "codemirror_mode": {
    "name": "ipython",
    "version": 3
   },
   "file_extension": ".py",
   "mimetype": "text/x-python",
   "name": "python",
   "nbconvert_exporter": "python",
   "pygments_lexer": "ipython3",
   "version": "3.6.5"
  }
 },
 "nbformat": 4,
 "nbformat_minor": 2
}
